{
 "cells": [
  {
   "cell_type": "markdown",
   "metadata": {},
   "source": [
    "# 2011 Salinity"
   ]
  },
  {
   "cell_type": "markdown",
   "metadata": {},
   "source": [
    "This code imports the libraries."
   ]
  },
  {
   "cell_type": "code",
   "execution_count": 1,
   "metadata": {},
   "outputs": [],
   "source": [
    "import matplotlib.pyplot as plt\n",
    "import numpy as np\n",
    "import csv # This is a library that allows us to work with CSV files even if we're not using pandas"
   ]
  },
  {
   "cell_type": "markdown",
   "metadata": {},
   "source": [
    "This code opens the data file, create a CSV reader object to read the data, and converts it into a list of lists using the built in Python list() function."
   ]
  },
  {
   "cell_type": "code",
   "execution_count": 2,
   "metadata": {},
   "outputs": [],
   "source": [
    "csvFile = open(\"PracticalSalinityUnits_Dec_2011.csv\", \"r\")\n",
    "csvReader = csv.reader(csvFile, delimiter=',')\n",
    "data_lists = list(csvReader)"
   ]
  },
  {
   "cell_type": "markdown",
   "metadata": {},
   "source": [
    "Find the width and height of the data"
   ]
  },
  {
   "cell_type": "code",
   "execution_count": 3,
   "metadata": {},
   "outputs": [
    {
     "name": "stdout",
     "output_type": "stream",
     "text": [
      "360\n",
      "720\n"
     ]
    }
   ],
   "source": [
    "height = len(data_lists)\n",
    "width = len(data_lists[0])\n",
    "print(height)\n",
    "print(width)"
   ]
  },
  {
   "cell_type": "markdown",
   "metadata": {},
   "source": [
    "Now we're going to use a new numpy function that creates an empty matrix. A matrix is like a grid made up of lists."
   ]
  },
  {
   "cell_type": "code",
   "execution_count": 4,
   "metadata": {},
   "outputs": [],
   "source": [
    "grid = np.empty([height, width, 3], dtype=np.uint8) \n",
    "# We have to specify the height and width of the matrix along with the number of items \n",
    "# we can put in each spot on the grid. We want 3 because each color value has 3 numbers.\n",
    "# Finally, we specify the type of data we will put into the matrix."
   ]
  },
  {
   "cell_type": "markdown",
   "metadata": {},
   "source": [
    "Now we're going to use some code you're used to: \"for loops\" and conditionals! But we are making things a little more complicated using the enumerate() function. Using enumerate(), you keep track of both the index and the value in a \"for loop\"."
   ]
  },
  {
   "cell_type": "code",
   "execution_count": 5,
   "metadata": {},
   "outputs": [],
   "source": [
    "all_values = [] # We will fill in this empty list with all the data values as we go\n",
    "\n",
    "for r, row in enumerate(data_lists):\n",
    "    for c, value in enumerate(row):\n",
    "        if float(value) < 99999:\n",
    "            all_values.append(float(value)) # This is where we fill in the list with all data values\n",
    "        if float(value) <= 30:\n",
    "            grid[r, c] = [255, 255, 255]\n",
    "        elif float (value)<= 31:\n",
    "            grid[r, c] = [255, 242, 246]\n",
    "        elif float(value) <= 32:\n",
    "            grid[r, c] = [255, 227, 236]\n",
    "        elif float(value) <= 33:\n",
    "            grid[r, c] = [255, 201, 219]\n",
    "        elif float(value) <= 34:\n",
    "            grid[r, c] = [255, 161, 192]\n",
    "        elif float(value) <= 35:\n",
    "            grid[r, c] = [255, 110, 158]\n",
    "        elif float(value) <= 36:\n",
    "            grid[r, c] = [230, 64, 119]\n",
    "        elif float(value)<= 37:\n",
    "            grid[r, c] = [194, 37, 89]\n",
    "        elif float(value) <= 38:\n",
    "            grid[r, c] = [145, 12, 56]\n",
    "        else:\n",
    "            grid[r, c] = [0, 0, 0]"
   ]
  },
  {
   "cell_type": "markdown",
   "metadata": {},
   "source": [
    "Now that we have all of our data in a single list, we can find the max and the min: Hint: Use this information to help you adjust your conditionals!"
   ]
  },
  {
   "cell_type": "code",
   "execution_count": 6,
   "metadata": {},
   "outputs": [
    {
     "name": "stdout",
     "output_type": "stream",
     "text": [
      "30.0\n",
      "38.0\n"
     ]
    }
   ],
   "source": [
    "print(min(all_values))\n",
    "print(max(all_values))"
   ]
  },
  {
   "cell_type": "markdown",
   "metadata": {},
   "source": [
    "Use matplotlib to create a color coded map of salinity!"
   ]
  },
  {
   "cell_type": "code",
   "execution_count": 18,
   "metadata": {},
   "outputs": [
    {
     "data": {
      "image/png": "[encoded data removed]",
      "text/plain": [
       "<Figure size 432x288 with 1 Axes>"
      ]
     },
     "metadata": {
      "needs_background": "light"
     },
     "output_type": "display_data"
    }
   ],
   "source": [
    "plt.title(\"Salinity In The Oceans 2011\")\n",
    "plt.imshow(grid)\n",
    "plt.axis('off')\n",
    "plt.savefig(\"Salinity2011.png\",dpi = 1000)\n",
    "plt.show()"
   ]
  },
  {
   "cell_type": "markdown",
   "metadata": {},
   "source": [
    "# Salinity 2015"
   ]
  },
  {
   "cell_type": "code",
   "execution_count": 8,
   "metadata": {},
   "outputs": [],
   "source": [
    "import matplotlib.pyplot as plt\n",
    "import numpy as np\n",
    "import csv # This is a library that allows us to work with CSV files even if we're not using pandas"
   ]
  },
  {
   "cell_type": "code",
   "execution_count": 10,
   "metadata": {},
   "outputs": [
    {
     "ename": "FileNotFoundError",
     "evalue": "[Errno 2] No such file or directory: 'PracticalSalinityUnits_Jan_2015.csv'",
     "output_type": "error",
     "traceback": [
      "\u001b[0;31m---------------------------------------------------------------------------\u001b[0m",
      "\u001b[0;31mFileNotFoundError\u001b[0m                         Traceback (most recent call last)",
      "\u001b[0;32m<ipython-input-10-8343566b2d7f>\u001b[0m in \u001b[0;36m<module>\u001b[0;34m\u001b[0m\n\u001b[0;32m----> 1\u001b[0;31m \u001b[0mcsvFile\u001b[0m \u001b[0;34m=\u001b[0m \u001b[0mopen\u001b[0m\u001b[0;34m(\u001b[0m\u001b[0;34m\"PracticalSalinityUnits_Jan_2015.csv\"\u001b[0m\u001b[0;34m,\u001b[0m \u001b[0;34m\"r\"\u001b[0m\u001b[0;34m)\u001b[0m\u001b[0;34m\u001b[0m\u001b[0;34m\u001b[0m\u001b[0m\n\u001b[0m\u001b[1;32m      2\u001b[0m \u001b[0mcsvReader\u001b[0m \u001b[0;34m=\u001b[0m \u001b[0mcsv\u001b[0m\u001b[0;34m.\u001b[0m\u001b[0mreader\u001b[0m\u001b[0;34m(\u001b[0m\u001b[0mcsvFile\u001b[0m\u001b[0;34m,\u001b[0m \u001b[0mdelimiter\u001b[0m\u001b[0;34m=\u001b[0m\u001b[0;34m','\u001b[0m\u001b[0;34m)\u001b[0m\u001b[0;34m\u001b[0m\u001b[0;34m\u001b[0m\u001b[0m\n\u001b[1;32m      3\u001b[0m \u001b[0mdata_lists\u001b[0m \u001b[0;34m=\u001b[0m \u001b[0mlist\u001b[0m\u001b[0;34m(\u001b[0m\u001b[0mcsvReader\u001b[0m\u001b[0;34m)\u001b[0m\u001b[0;34m\u001b[0m\u001b[0;34m\u001b[0m\u001b[0m\n",
      "\u001b[0;31mFileNotFoundError\u001b[0m: [Errno 2] No such file or directory: 'PracticalSalinityUnits_Jan_2015.csv'"
     ]
    }
   ],
   "source": [
    "csvFile = open(\"PracticalSalinityUnits_Jan_2015.csv\", \"r\")\n",
    "csvReader = csv.reader(csvFile, delimiter=',')\n",
    "data_lists = list(csvReader)"
   ]
  },
  {
   "cell_type": "code",
   "execution_count": 11,
   "metadata": {},
   "outputs": [
    {
     "name": "stdout",
     "output_type": "stream",
     "text": [
      "360\n",
      "720\n"
     ]
    }
   ],
   "source": [
    "height = len(data_lists)\n",
    "width = len(data_lists[0])\n",
    "print(height)\n",
    "print(width)"
   ]
  },
  {
   "cell_type": "code",
   "execution_count": 12,
   "metadata": {},
   "outputs": [],
   "source": [
    "grid = np.empty([height, width, 3], dtype=np.uint8) \n",
    "# We have to specify the height and width of the matrix along with the number of items \n",
    "# we can put in each spot on the grid. We want 3 because each color value has 3 numbers.\n",
    "# Finally, we specify the type of data we will put into the matrix."
   ]
  },
  {
   "cell_type": "code",
   "execution_count": 13,
   "metadata": {},
   "outputs": [],
   "source": [
    "all_values = [] # We will fill in this empty list with all the data values as we go\n",
    "\n",
    "for r, row in enumerate(data_lists):\n",
    "    for c, value in enumerate(row):\n",
    "        if float(value) < 99999:\n",
    "            all_values.append(float(value)) # This is where we fill in the list with all data values\n",
    "        if float(value) <= 30:\n",
    "            grid[r, c] = [255, 255, 255]\n",
    "        elif float (value)<= 31:\n",
    "            grid[r, c] = [255, 242, 246]\n",
    "        elif float(value) <= 32:\n",
    "            grid[r, c] = [255, 227, 236]\n",
    "        elif float(value) <= 33:\n",
    "            grid[r, c] = [255, 201, 219]\n",
    "        elif float(value) <= 34:\n",
    "            grid[r, c] = [255, 161, 192]\n",
    "        elif float(value) <= 35:\n",
    "            grid[r, c] = [255, 110, 158]\n",
    "        elif float(value) <= 36:\n",
    "            grid[r, c] = [230, 64, 119]\n",
    "        elif float(value)<= 37:\n",
    "            grid[r, c] = [194, 37, 89]\n",
    "        elif float(value) <= 38:\n",
    "            grid[r, c] = [145, 12, 56]\n",
    "        else:\n",
    "            grid[r, c] = [0, 0, 0]"
   ]
  },
  {
   "cell_type": "code",
   "execution_count": 14,
   "metadata": {},
   "outputs": [
    {
     "name": "stdout",
     "output_type": "stream",
     "text": [
      "30.0\n",
      "38.0\n"
     ]
    }
   ],
   "source": [
    "print(min(all_values))\n",
    "print(max(all_values))"
   ]
  },
  {
   "cell_type": "code",
   "execution_count": 17,
   "metadata": {},
   "outputs": [
    {
     "data": {
      "image/png": "[encoded data removed]",
      "text/plain": [
       "<Figure size 432x288 with 1 Axes>"
      ]
     },
     "metadata": {
      "needs_background": "light"
     },
     "output_type": "display_data"
    }
   ],
   "source": [
    "plt.title(\"Salinity In The Oceans 2015\")\n",
    "plt.imshow(grid)\n",
    "plt.axis('off')\n",
    "plt.savefig(\"Salinity2015.png\",dpi = 1000)\n",
    "plt.show()"
   ]
  },
  {
   "cell_type": "code",
   "execution_count": null,
   "metadata": {},
   "outputs": [],
   "source": []
  }
 ],
 "metadata": {
  "kernelspec": {
   "display_name": "Python 3",
   "language": "python",
   "name": "python3"
  },
  "language_info": {
   "codemirror_mode": {
    "name": "ipython",
    "version": 3
   },
   "file_extension": ".py",
   "mimetype": "text/x-python",
   "name": "python",
   "nbconvert_exporter": "python",
   "pygments_lexer": "ipython3",
   "version": "3.7.3"
  }
 },
 "nbformat": 4,
 "nbformat_minor": 2
}
