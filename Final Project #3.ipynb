{
 "cells": [
  {
   "cell_type": "markdown",
   "metadata": {},
   "source": [
    "# Badger vs. Sheep vs. Pig"
   ]
  },
  {
   "cell_type": "code",
   "execution_count": 1,
   "metadata": {},
   "outputs": [],
   "source": [
    "# open files and read as strings\n",
    "DNAa = open(\"Ovis CanadensisDNA.txt\").read()\n",
    "DNAb = open(\"PecariTajacuDNA.txt\").read()\n",
    "DNAc = open(\"TaxideaTaxusDNA.txt\").read()"
   ]
  },
  {
   "cell_type": "code",
   "execution_count": 2,
   "metadata": {},
   "outputs": [
    {
     "name": "stdout",
     "output_type": "stream",
     "text": [
      "1042\n",
      "1036\n",
      "1047\n"
     ]
    }
   ],
   "source": [
    "#print length of DNA\n",
    "print(len(DNAa))\n",
    "print(len(DNAb))\n",
    "print(len(DNAc))"
   ]
  },
  {
   "cell_type": "code",
   "execution_count": 3,
   "metadata": {},
   "outputs": [],
   "source": [
    "#The if conditional in this code assign DNAa to shortest and \n",
    "#longest to DNAb, and if the other conditional disagrees it will\n",
    "#assign DNAa to longest and DNAb to shortest\n",
    "longest = \"\"\n",
    "shortest = \"\"\n",
    "if len(DNAa) < len(DNAb):\n",
    "    shortest = DNAa\n",
    "    longest = DNAb\n",
    "else:\n",
    "    shortest = DNAb\n",
    "    longest = DNAa "
   ]
  },
  {
   "cell_type": "code",
   "execution_count": 4,
   "metadata": {},
   "outputs": [
    {
     "name": "stdout",
     "output_type": "stream",
     "text": [
      "46.23552123552124\n"
     ]
    }
   ],
   "source": [
    "#Find the percentage difference between DNAa and DNAb\n",
    "dna_diff_AB = 0\n",
    "for c, i in enumerate(shortest):\n",
    "    if i != longest[c]:\n",
    "        dna_diff_AB += 1\n",
    "per_dif_AB = (dna_diff_AB/len(shortest))*100\n",
    "print(per_dif_AB)\n"
   ]
  },
  {
   "cell_type": "code",
   "execution_count": 5,
   "metadata": {},
   "outputs": [],
   "source": [
    "longest = \"\"\n",
    "shortest = \"\"\n",
    "if len(DNAb) < len(DNAc):\n",
    "    shortest = DNAb\n",
    "    longest = DNAc\n",
    "else:\n",
    "    shortest = DNAc\n",
    "    longest = DNAb"
   ]
  },
  {
   "cell_type": "code",
   "execution_count": 6,
   "metadata": {},
   "outputs": [
    {
     "name": "stdout",
     "output_type": "stream",
     "text": [
      "62.6552053486151\n"
     ]
    }
   ],
   "source": [
    "dna_diff_BC = 0\n",
    "for c, i in enumerate(shortest):\n",
    "    if i != longest[c]:\n",
    "        dna_diff_BC += 1\n",
    "per_dif_BC = (dna_diff_BC/len(DNAc))*100\n",
    "print(per_dif_BC)"
   ]
  },
  {
   "cell_type": "code",
   "execution_count": 7,
   "metadata": {},
   "outputs": [],
   "source": [
    "longest = \"\"\n",
    "shortest = \"\"\n",
    "if len(DNAc) < len(DNAa):\n",
    "    shortest = DNAc\n",
    "    longest = DNAa\n",
    "else:\n",
    "    shortest = DNAa\n",
    "    longest = DNAc"
   ]
  },
  {
   "cell_type": "code",
   "execution_count": 8,
   "metadata": {},
   "outputs": [
    {
     "name": "stdout",
     "output_type": "stream",
     "text": [
      "70.24952015355086\n"
     ]
    }
   ],
   "source": [
    "dna_diff_CA = 0\n",
    "for c, i in enumerate(shortest):\n",
    "    if i != longest[c]:\n",
    "        dna_diff_CA += 1\n",
    "per_dif_CA = (dna_diff_CA/len(DNAa))*100\n",
    "print(per_dif_CA)"
   ]
  },
  {
   "cell_type": "code",
   "execution_count": null,
   "metadata": {},
   "outputs": [],
   "source": []
  }
 ],
 "metadata": {
  "kernelspec": {
   "display_name": "Python 3",
   "language": "python",
   "name": "python3"
  },
  "language_info": {
   "codemirror_mode": {
    "name": "ipython",
    "version": 3
   },
   "file_extension": ".py",
   "mimetype": "text/x-python",
   "name": "python",
   "nbconvert_exporter": "python",
   "pygments_lexer": "ipython3",
   "version": "3.7.3"
  }
 },
 "nbformat": 4,
 "nbformat_minor": 2
}
